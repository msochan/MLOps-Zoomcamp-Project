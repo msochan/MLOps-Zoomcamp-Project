{
 "cells": [
  {
   "cell_type": "code",
   "execution_count": 42,
   "id": "3e1a24cc",
   "metadata": {
    "ExecuteTime": {
     "end_time": "2022-06-01T09:47:18.922663Z",
     "start_time": "2022-06-01T09:47:18.917203Z"
    }
   },
   "outputs": [],
   "source": [
    "import mlflow"
   ]
  },
  {
   "cell_type": "code",
   "execution_count": 1,
   "id": "c20c098d",
   "metadata": {
    "ExecuteTime": {
     "end_time": "2022-06-01T08:39:31.391737Z",
     "start_time": "2022-06-01T08:39:27.657012Z"
    }
   },
   "outputs": [
    {
     "name": "stdout",
     "output_type": "stream",
     "text": [
      "mlflow, version 1.26.1\r\n"
     ]
    }
   ],
   "source": [
    "!mlflow --version"
   ]
  },
  {
   "cell_type": "markdown",
   "id": "582a6626",
   "metadata": {},
   "source": [
    "# Q1. Answer: 1.26.1"
   ]
  },
  {
   "cell_type": "code",
   "execution_count": 2,
   "id": "9cecaa3a",
   "metadata": {
    "ExecuteTime": {
     "end_time": "2022-06-01T08:41:37.915289Z",
     "start_time": "2022-06-01T08:41:36.124572Z"
    }
   },
   "outputs": [
    {
     "name": "stdout",
     "output_type": "stream",
     "text": [
      "--2022-06-01 10:41:36--  https://s3.amazonaws.com/nyc-tlc/trip+data/green_tripdata_2021-01.parquet\n",
      "Resolving s3.amazonaws.com (s3.amazonaws.com)... 52.217.204.120\n",
      "Connecting to s3.amazonaws.com (s3.amazonaws.com)|52.217.204.120|:443... connected.\n",
      "HTTP request sent, awaiting response... 200 OK\n",
      "Length: 1333519 (1,3M) [binary/octet-stream]\n",
      "Saving to: ‘green_tripdata_2021-01.parquet’\n",
      "\n",
      "green_tripdata_2021 100%[===================>]   1,27M  1,47MB/s    in 0,9s    \n",
      "\n",
      "2022-06-01 10:41:37 (1,47 MB/s) - ‘green_tripdata_2021-01.parquet’ saved [1333519/1333519]\n",
      "\n"
     ]
    }
   ],
   "source": [
    "!wget https://s3.amazonaws.com/nyc-tlc/trip+data/green_tripdata_2021-01.parquet"
   ]
  },
  {
   "cell_type": "code",
   "execution_count": 3,
   "id": "4e402228",
   "metadata": {
    "ExecuteTime": {
     "end_time": "2022-06-01T08:41:52.546374Z",
     "start_time": "2022-06-01T08:41:50.824885Z"
    }
   },
   "outputs": [
    {
     "name": "stdout",
     "output_type": "stream",
     "text": [
      "--2022-06-01 10:41:50--  https://s3.amazonaws.com/nyc-tlc/trip+data/green_tripdata_2021-02.parquet\n",
      "Resolving s3.amazonaws.com (s3.amazonaws.com)... 52.217.204.120\n",
      "Connecting to s3.amazonaws.com (s3.amazonaws.com)|52.217.204.120|:443... connected.\n",
      "HTTP request sent, awaiting response... 200 OK\n",
      "Length: 1145679 (1,1M) [binary/octet-stream]\n",
      "Saving to: ‘green_tripdata_2021-02.parquet’\n",
      "\n",
      "green_tripdata_2021 100%[===================>]   1,09M  1,29MB/s    in 0,8s    \n",
      "\n",
      "2022-06-01 10:41:52 (1,29 MB/s) - ‘green_tripdata_2021-02.parquet’ saved [1145679/1145679]\n",
      "\n"
     ]
    }
   ],
   "source": [
    "!wget https://s3.amazonaws.com/nyc-tlc/trip+data/green_tripdata_2021-02.parquet"
   ]
  },
  {
   "cell_type": "code",
   "execution_count": 4,
   "id": "736e2f74",
   "metadata": {
    "ExecuteTime": {
     "end_time": "2022-06-01T08:42:02.026418Z",
     "start_time": "2022-06-01T08:42:00.280458Z"
    }
   },
   "outputs": [
    {
     "name": "stdout",
     "output_type": "stream",
     "text": [
      "--2022-06-01 10:42:00--  https://s3.amazonaws.com/nyc-tlc/trip+data/green_tripdata_2021-03.parquet\n",
      "Resolving s3.amazonaws.com (s3.amazonaws.com)... 52.217.195.96\n",
      "Connecting to s3.amazonaws.com (s3.amazonaws.com)|52.217.195.96|:443... connected.\n",
      "HTTP request sent, awaiting response... 200 OK\n",
      "Length: 1474538 (1,4M) [binary/octet-stream]\n",
      "Saving to: ‘green_tripdata_2021-03.parquet’\n",
      "\n",
      "green_tripdata_2021 100%[===================>]   1,41M  1,61MB/s    in 0,9s    \n",
      "\n",
      "2022-06-01 10:42:01 (1,61 MB/s) - ‘green_tripdata_2021-03.parquet’ saved [1474538/1474538]\n",
      "\n"
     ]
    }
   ],
   "source": [
    "!wget https://s3.amazonaws.com/nyc-tlc/trip+data/green_tripdata_2021-03.parquet"
   ]
  },
  {
   "cell_type": "code",
   "execution_count": 25,
   "id": "9fc01cdf",
   "metadata": {
    "ExecuteTime": {
     "end_time": "2022-06-01T09:01:22.923751Z",
     "start_time": "2022-06-01T09:01:18.350203Z"
    }
   },
   "outputs": [],
   "source": [
    "!python homework/preprocess_data.py --raw_data_path \"/Users/blackbird/projects/ZOOMCAMPS/mlops-zoomcamp-homeworks/02-experiment-tracking\" --dest_path ./output"
   ]
  },
  {
   "cell_type": "markdown",
   "id": "95653c57",
   "metadata": {},
   "source": [
    "# Q2. Answer: 4"
   ]
  },
  {
   "cell_type": "code",
   "execution_count": 26,
   "id": "82cfe781",
   "metadata": {
    "ExecuteTime": {
     "end_time": "2022-06-01T09:05:02.098888Z",
     "start_time": "2022-06-01T09:05:00.968187Z"
    }
   },
   "outputs": [],
   "source": [
    "import mlflow"
   ]
  },
  {
   "cell_type": "code",
   "execution_count": 27,
   "id": "3ba20a27",
   "metadata": {
    "ExecuteTime": {
     "end_time": "2022-06-01T09:05:37.172244Z",
     "start_time": "2022-06-01T09:05:36.983373Z"
    }
   },
   "outputs": [
    {
     "name": "stderr",
     "output_type": "stream",
     "text": [
      "2022/06/01 11:05:37 INFO mlflow.tracking.fluent: Autologging successfully enabled for pyspark.\n",
      "2022/06/01 11:05:37 INFO mlflow.pyspark.ml: No SparkSession detected. Autologging will log pyspark.ml models contained in the default allowlist. To specify a custom allowlist, initialize a SparkSession prior to calling mlflow.pyspark.ml.autolog() and specify the path to your allowlist file via the spark.mlflow.pysparkml.autolog.logModelAllowlistFile conf.\n",
      "2022/06/01 11:05:37 INFO mlflow.tracking.fluent: Autologging successfully enabled for pyspark.ml.\n"
     ]
    }
   ],
   "source": [
    "mlflow.sklearn.autolog(registered_model_name=\"nyc-taxi-experiment\")"
   ]
  },
  {
   "cell_type": "code",
   "execution_count": 48,
   "id": "6bc30059",
   "metadata": {
    "ExecuteTime": {
     "end_time": "2022-06-01T10:23:04.578434Z",
     "start_time": "2022-06-01T10:22:32.084541Z"
    }
   },
   "outputs": [],
   "source": [
    "!python homework/train.py"
   ]
  },
  {
   "cell_type": "markdown",
   "id": "12385330",
   "metadata": {},
   "source": [
    "# Q3. Answer: 17"
   ]
  },
  {
   "cell_type": "code",
   "execution_count": null,
   "id": "36d376a5",
   "metadata": {},
   "outputs": [],
   "source": [
    "!mlflow server --backend-store-uri sqlite:///mlflow.db --default-artifact-root ./artifacts"
   ]
  },
  {
   "cell_type": "markdown",
   "id": "80f7ef40",
   "metadata": {},
   "source": [
    "# Q4. Answer: default-artifact-root"
   ]
  },
  {
   "cell_type": "code",
   "execution_count": 84,
   "id": "8192eb2e",
   "metadata": {
    "ExecuteTime": {
     "end_time": "2022-06-01T21:10:46.138075Z",
     "start_time": "2022-06-01T21:03:56.077296Z"
    }
   },
   "outputs": [
    {
     "name": "stdout",
     "output_type": "stream",
     "text": [
      "100%|█████████| 50/50 [06:45<00:00,  8.10s/trial, best loss: 6.6284257482044735]\n"
     ]
    }
   ],
   "source": [
    "!python homework/hpo.py"
   ]
  },
  {
   "cell_type": "markdown",
   "id": "b4baddde",
   "metadata": {},
   "source": [
    "# Q5. Answer: 6.628"
   ]
  },
  {
   "cell_type": "code",
   "execution_count": 87,
   "id": "94083ca0",
   "metadata": {
    "ExecuteTime": {
     "end_time": "2022-06-02T17:02:16.624909Z",
     "start_time": "2022-06-02T17:00:20.663309Z"
    }
   },
   "outputs": [
    {
     "name": "stdout",
     "output_type": "stream",
     "text": [
      "Successfully registered model 'lowest_RMSE_green_taxi_test'.\n",
      "2022/06/02 19:02:15 INFO mlflow.tracking._model_registry.client: Waiting up to 300 seconds for model version to finish creation.                     Model name: lowest_RMSE_green_taxi_test, version 1\n",
      "Created version '1' of model 'lowest_RMSE_green_taxi_test'.\n"
     ]
    }
   ],
   "source": [
    "!python homework/register_model.py"
   ]
  },
  {
   "cell_type": "markdown",
   "id": "6f182b5b",
   "metadata": {},
   "source": [
    "# Q6. Answer: 6.55"
   ]
  },
  {
   "cell_type": "code",
   "execution_count": null,
   "id": "aa57501b",
   "metadata": {},
   "outputs": [],
   "source": []
  }
 ],
 "metadata": {
  "kernelspec": {
   "display_name": "Python 3 (ipykernel)",
   "language": "python",
   "name": "python3"
  },
  "language_info": {
   "codemirror_mode": {
    "name": "ipython",
    "version": 3
   },
   "file_extension": ".py",
   "mimetype": "text/x-python",
   "name": "python",
   "nbconvert_exporter": "python",
   "pygments_lexer": "ipython3",
   "version": "3.9.7"
  },
  "toc": {
   "base_numbering": 1,
   "nav_menu": {},
   "number_sections": false,
   "sideBar": true,
   "skip_h1_title": false,
   "title_cell": "Table of Contents",
   "title_sidebar": "Contents",
   "toc_cell": false,
   "toc_position": {},
   "toc_section_display": true,
   "toc_window_display": false
  },
  "varInspector": {
   "cols": {
    "lenName": 16,
    "lenType": 16,
    "lenVar": 40
   },
   "kernels_config": {
    "python": {
     "delete_cmd_postfix": "",
     "delete_cmd_prefix": "del ",
     "library": "var_list.py",
     "varRefreshCmd": "print(var_dic_list())"
    },
    "r": {
     "delete_cmd_postfix": ") ",
     "delete_cmd_prefix": "rm(",
     "library": "var_list.r",
     "varRefreshCmd": "cat(var_dic_list()) "
    }
   },
   "types_to_exclude": [
    "module",
    "function",
    "builtin_function_or_method",
    "instance",
    "_Feature"
   ],
   "window_display": false
  }
 },
 "nbformat": 4,
 "nbformat_minor": 5
}
